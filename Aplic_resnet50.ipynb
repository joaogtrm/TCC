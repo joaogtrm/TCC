{
 "cells": [
  {
   "cell_type": "code",
   "execution_count": 7,
   "id": "f7712b3a",
   "metadata": {},
   "outputs": [
    {
     "name": "stdout",
     "output_type": "stream",
     "text": [
      "Current directory: C:\\TCC\n",
      "New directory: C:\\TCC\n"
     ]
    }
   ],
   "source": [
    "import torch\n",
    "import torchvision\n",
    "import torchvision.transforms as transforms\n",
    "import torch.nn as nn\n",
    "import torch.nn.functional as F\n",
    "import torch.optim as optim\n",
    "from torch.utils.data import Subset, DataLoader\n",
    "import numpy as np\n",
    "from RESNET50 import Bottleneck, ResNet, ResNet50\n",
    "\n",
    "import os\n",
    "\n",
    "# Get the current working directory\n",
    "current_directory = os.getcwd()\n",
    "print(f\"Current directory: {current_directory}\")\n",
    "\n",
    "# Change the current working directory\n",
    "new_directory = r\"C:\\TCC\"  # Replace with your desired path\n",
    "os.chdir(new_directory)\n",
    "\n",
    "# Get the new working directory\n",
    "new_current_directory = os.getcwd()\n",
    "print(f\"New directory: {new_current_directory}\")\n",
    "\n",
    "\n",
    "from transform_data import trans_data"
   ]
  },
  {
   "cell_type": "code",
   "execution_count": 8,
   "id": "85fb3e27",
   "metadata": {},
   "outputs": [],
   "source": [
    "EPOC=20\n",
    "LR=0.001"
   ]
  },
  {
   "cell_type": "code",
   "execution_count": 9,
   "id": "389eb378",
   "metadata": {},
   "outputs": [],
   "source": [
    "train_data_path = r\"C:\\Users\\joaog\\Deep_Learning\\Dataset\\chest_xray\\train\"\n",
    "test_data_path = r\"C:\\Users\\joaog\\Deep_Learning\\Dataset\\chest_xray\\test\"\n",
    "trainloader,testloader = trans_data(train_data_path,test_data_path,5216,36)\n"
   ]
  },
  {
   "cell_type": "code",
   "execution_count": 10,
   "id": "782ef9ef",
   "metadata": {},
   "outputs": [],
   "source": [
    "#classes = ['plane', 'car', 'bird', 'cat', 'deer', 'dog', 'frog', 'horse', 'ship', 'truck']"
   ]
  },
  {
   "cell_type": "code",
   "execution_count": 11,
   "id": "2512b208",
   "metadata": {},
   "outputs": [],
   "source": [
    "net = ResNet50(10).to('cuda')\n",
    "\n",
    "criterion = nn.CrossEntropyLoss()\n",
    "optimizer = optim.SGD(net.parameters(), lr=LR, momentum=0.9, weight_decay=0.0001)\n",
    "scheduler = optim.lr_scheduler.ReduceLROnPlateau(optimizer, factor = 0.1, patience=5)"
   ]
  },
  {
   "cell_type": "code",
   "execution_count": 12,
   "id": "c73c6a06",
   "metadata": {},
   "outputs": [
    {
     "name": "stdout",
     "output_type": "stream",
     "text": [
      "Loss [1, 9](epoch, minibatch):  0.08969\n",
      "Loss [1, 18](epoch, minibatch):  0.04844\n",
      "Loss [1, 27](epoch, minibatch):  0.04595\n",
      "Loss [1, 36](epoch, minibatch):  0.03561\n",
      "Loss [1, 45](epoch, minibatch):  0.04527\n",
      "Loss [1, 54](epoch, minibatch):  0.02785\n",
      "Loss [1, 63](epoch, minibatch):  0.02664\n",
      "Loss [1, 72](epoch, minibatch):  0.01896\n",
      "Loss [1, 81](epoch, minibatch):  0.02249\n",
      "Loss [1, 90](epoch, minibatch):  0.02076\n",
      "Loss [1, 99](epoch, minibatch):  0.01997\n",
      "Loss [1, 108](epoch, minibatch):  0.01683\n",
      "Loss [1, 117](epoch, minibatch):  0.02064\n",
      "Loss [1, 126](epoch, minibatch):  0.01816\n",
      "Loss [1, 135](epoch, minibatch):  0.0191\n",
      "Loss [1, 144](epoch, minibatch):  0.01709\n",
      "Loss [2, 9](epoch, minibatch):  0.01506\n",
      "Loss [2, 18](epoch, minibatch):  0.01299\n",
      "Loss [2, 27](epoch, minibatch):  0.01437\n",
      "Loss [2, 36](epoch, minibatch):  0.02284\n",
      "Loss [2, 45](epoch, minibatch):  0.03483\n",
      "Loss [2, 54](epoch, minibatch):  0.02371\n",
      "Loss [2, 63](epoch, minibatch):  0.02037\n",
      "Loss [2, 72](epoch, minibatch):  0.01664\n",
      "Loss [2, 81](epoch, minibatch):  0.0186\n",
      "Loss [2, 90](epoch, minibatch):  0.01003\n",
      "Loss [2, 99](epoch, minibatch):  0.01109\n",
      "Loss [2, 108](epoch, minibatch):  0.01206\n",
      "Loss [2, 117](epoch, minibatch):  0.01422\n",
      "Loss [2, 126](epoch, minibatch):  0.00646\n",
      "Loss [2, 135](epoch, minibatch):  0.01468\n",
      "Loss [2, 144](epoch, minibatch):  0.01439\n",
      "Loss [3, 9](epoch, minibatch):  0.00927\n",
      "Loss [3, 18](epoch, minibatch):  0.01134\n",
      "Loss [3, 27](epoch, minibatch):  0.01455\n",
      "Loss [3, 36](epoch, minibatch):  0.02043\n",
      "Loss [3, 45](epoch, minibatch):  0.01241\n",
      "Loss [3, 54](epoch, minibatch):  0.01002\n",
      "Loss [3, 63](epoch, minibatch):  0.01376\n",
      "Loss [3, 72](epoch, minibatch):  0.01477\n",
      "Loss [3, 81](epoch, minibatch):  0.01239\n",
      "Loss [3, 90](epoch, minibatch):  0.01049\n",
      "Loss [3, 99](epoch, minibatch):  0.01419\n",
      "Loss [3, 108](epoch, minibatch):  0.00726\n"
     ]
    },
    {
     "ename": "KeyboardInterrupt",
     "evalue": "",
     "output_type": "error",
     "traceback": [
      "\u001b[31m---------------------------------------------------------------------------\u001b[39m",
      "\u001b[31mKeyboardInterrupt\u001b[39m                         Traceback (most recent call last)",
      "\u001b[36mCell\u001b[39m\u001b[36m \u001b[39m\u001b[32mIn[12]\u001b[39m\u001b[32m, line 19\u001b[39m\n\u001b[32m     16\u001b[39m loss.backward()\n\u001b[32m     17\u001b[39m optimizer.step()\n\u001b[32m---> \u001b[39m\u001b[32m19\u001b[39m running_loss += \u001b[43mloss\u001b[49m\u001b[43m.\u001b[49m\u001b[43mitem\u001b[49m\u001b[43m(\u001b[49m\u001b[43m)\u001b[49m\n\u001b[32m     21\u001b[39m \u001b[38;5;28;01mif\u001b[39;00m i%\u001b[32m9\u001b[39m == \u001b[32m0\u001b[39m \u001b[38;5;129;01mand\u001b[39;00m i > \u001b[32m0\u001b[39m:\n\u001b[32m     22\u001b[39m     \u001b[38;5;28mprint\u001b[39m(\u001b[33mf\u001b[39m\u001b[33m'\u001b[39m\u001b[33mLoss [\u001b[39m\u001b[38;5;132;01m{\u001b[39;00mepoch+\u001b[32m1\u001b[39m\u001b[38;5;132;01m}\u001b[39;00m\u001b[33m, \u001b[39m\u001b[38;5;132;01m{\u001b[39;00mi\u001b[38;5;132;01m}\u001b[39;00m\u001b[33m](epoch, minibatch): \u001b[39m\u001b[33m'\u001b[39m, \u001b[38;5;28mround\u001b[39m(running_loss / \u001b[32m100\u001b[39m,\u001b[32m5\u001b[39m))\n",
      "\u001b[31mKeyboardInterrupt\u001b[39m: "
     ]
    }
   ],
   "source": [
    "from tqdm.auto import tqdm\n",
    "\n",
    "EPOCHS = EPOC\n",
    "for epoch in range(EPOCHS):\n",
    "    losses = []\n",
    "    running_loss = 0\n",
    "    for i, inp in enumerate(trainloader):\n",
    "        inputs, labels = inp\n",
    "        inputs, labels = inputs.to('cuda'), labels.to('cuda')\n",
    "        optimizer.zero_grad()\n",
    "    \n",
    "        outputs = net(inputs)\n",
    "        loss = criterion(outputs, labels)\n",
    "        losses.append(loss.item())\n",
    "\n",
    "        loss.backward()\n",
    "        optimizer.step()\n",
    "        \n",
    "        running_loss += loss.item()\n",
    "        \n",
    "        if i%9 == 0 and i > 0:\n",
    "            print(f'Loss [{epoch+1}, {i}](epoch, minibatch): ', round(running_loss / 100,5))\n",
    "            running_loss = 0.0\n",
    "\n",
    "    avg_loss = sum(losses)/len(losses)\n",
    "    scheduler.step(avg_loss)\n",
    "            \n"
   ]
  },
  {
   "cell_type": "code",
   "execution_count": 13,
   "id": "08eda34f",
   "metadata": {},
   "outputs": [
    {
     "data": {
      "image/png": "[encoded data removed]",
      "text/plain": [
       "<Figure size 1000x800 with 2 Axes>"
      ]
     },
     "metadata": {},
     "output_type": "display_data"
    }
   ],
   "source": [
    "import torch\n",
    "import numpy as np\n",
    "import seaborn as sns\n",
    "import matplotlib.pyplot as plt\n",
    "from sklearn.metrics import confusion_matrix\n",
    "\n",
    "# --- Ensure your network is in evaluation mode ---\n",
    "net.eval()\n",
    "\n",
    "# --- Lists to store true labels and predictions ---\n",
    "all_labels = []\n",
    "all_predictions = []\n",
    "\n",
    "# --- No gradient calculation needed for inference ---\n",
    "with torch.no_grad():\n",
    "    # Iterate over the test data\n",
    "    for data in testloader:\n",
    "        inputs, labels = data\n",
    "        inputs, labels = inputs.to('cuda'), labels.to('cuda')\n",
    "\n",
    "        # Get model outputs\n",
    "        outputs = net(inputs)\n",
    "        \n",
    "        # Get the predicted class (the one with the highest score)\n",
    "        _, predicted = torch.max(outputs.data, 1)\n",
    "        \n",
    "        # Append batch predictions and labels to the lists\n",
    "        all_predictions.extend(predicted.cpu().numpy())\n",
    "        all_labels.extend(labels.cpu().numpy())\n",
    "\n",
    "# --- Get the class names from the dataset ---\n",
    "class_names = ['plane', 'car']\n",
    "\n",
    "# --- Compute the confusion matrix ---\n",
    "cm = confusion_matrix(all_labels, all_predictions)\n",
    "\n",
    "# --- Plot the confusion matrix using seaborn ---\n",
    "plt.figure(figsize=(10, 8))\n",
    "sns.heatmap(cm, annot=True, fmt='d', cmap='Blues',\n",
    "            xticklabels=class_names, yticklabels=class_names)\n",
    "\n",
    "plt.xlabel('Predicted Label')\n",
    "plt.ylabel('True Label')\n",
    "plt.title('Confusion Matrix for CIFAR-10 Test Set')\n",
    "plt.show()\n"
   ]
  },
  {
   "cell_type": "code",
   "execution_count": 14,
   "id": "336b8b87",
   "metadata": {},
   "outputs": [
    {
     "name": "stdout",
     "output_type": "stream",
     "text": [
      "Accuracy on 10,000 test images:  87.01923076923077 %\n"
     ]
    }
   ],
   "source": [
    "correct = 0\n",
    "total = 0\n",
    "\n",
    "with torch.no_grad():\n",
    "    for data in testloader:\n",
    "        images, labels = data\n",
    "        images, labels = images.to('cuda'), labels.to('cuda')\n",
    "        outputs = net(images)\n",
    "        \n",
    "        _, predicted = torch.max(outputs.data, 1)\n",
    "        total += labels.size(0)\n",
    "        correct += (predicted == labels).sum().item()\n",
    "print('Accuracy on 10,000 test images: ', 100*(correct/total), '%')"
   ]
  },
  {
   "cell_type": "code",
   "execution_count": null,
   "id": "522ebbac",
   "metadata": {},
   "outputs": [],
   "source": [
    "import matplotlib.pyplot as plt\n",
    "import numpy as np\n",
    "\n",
    "# Get one batch of test data\n",
    "dataiter = iter(testloader)\n",
    "images, labels = next(dataiter)\n",
    "\n",
    "# Function to show an image\n",
    "def imshow(img):\n",
    "    # Important: unnormalize if you normalized your data!\n",
    "    # This assumes you normalized with mean=0.5, std=0.5\n",
    "    img = img / 2 + 0.5     \n",
    "    npimg = img.numpy()\n",
    "    plt.imshow(np.transpose(npimg, (1, 2, 0)))\n",
    "    plt.show()\n",
    "\n",
    "# --- RUN THIS BLOCK ---\n",
    "# Show the first 4 images from the batch\n",
    "imshow(torchvision.utils.make_grid(images[:4]))\n",
    "# Print the labels for those 4 images\n",
    "print(\"Labels for the images above: \", ' '.join(f'{labels[j].item()}' for j in range(4)))\n",
    "# --- --- --- --- --- --\n"
   ]
  }
 ],
 "metadata": {
  "kernelspec": {
   "display_name": "Python 3",
   "language": "python",
   "name": "python3"
  },
  "language_info": {
   "codemirror_mode": {
    "name": "ipython",
    "version": 3
   },
   "file_extension": ".py",
   "mimetype": "text/x-python",
   "name": "python",
   "nbconvert_exporter": "python",
   "pygments_lexer": "ipython3",
   "version": "3.11.9"
  }
 },
 "nbformat": 4,
 "nbformat_minor": 5
}
