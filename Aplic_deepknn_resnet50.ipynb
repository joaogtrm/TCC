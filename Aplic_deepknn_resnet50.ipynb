{
 "cells": [
  {
   "cell_type": "code",
   "execution_count": 1,
   "id": "4c98cf1f",
   "metadata": {},
   "outputs": [],
   "source": [
    "import torch\n",
    "import torchvision\n",
    "import torchvision.transforms as transforms\n",
    "import torch.nn as nn\n",
    "import torch.nn.functional as F\n",
    "import torch.optim as optim\n",
    "import numpy as np\n",
    "from DEEPKNN_RESNET50 import Bottleneck, ResNet, ResNet50\n",
    "\n",
    "from transform_data import trans_data\n",
    "\n",
    "from deepknn_loss_func import DeepKNNLoss\n",
    "#from RESNET50 import Bottleneck, ResNet, ResNet50"
   ]
  },
  {
   "cell_type": "code",
   "execution_count": 2,
   "id": "a074ad72",
   "metadata": {},
   "outputs": [],
   "source": [
    "import torch\n",
    "import torch.nn as  nn\n",
    "import torch.nn.functional as F\n",
    "\n",
    "\n",
    "class Bottleneck(nn.Module):\n",
    "    expansion = 4\n",
    "    def __init__(self, in_channels, out_channels, i_downsample=None, stride=1):\n",
    "        super(Bottleneck, self).__init__()\n",
    "        \n",
    "        self.conv1 = nn.Conv2d(in_channels, out_channels, kernel_size=1, stride=1, padding=0)\n",
    "        self.batch_norm1 = nn.BatchNorm2d(out_channels)\n",
    "        \n",
    "        self.conv2 = nn.Conv2d(out_channels, out_channels, kernel_size=3, stride=stride, padding=1)\n",
    "        self.batch_norm2 = nn.BatchNorm2d(out_channels)\n",
    "        \n",
    "        self.conv3 = nn.Conv2d(out_channels, out_channels*self.expansion, kernel_size=1, stride=1, padding=0)\n",
    "        self.batch_norm3 = nn.BatchNorm2d(out_channels*self.expansion)\n",
    "        \n",
    "        self.i_downsample = i_downsample\n",
    "        self.stride = stride\n",
    "        self.relu = nn.ReLU()\n",
    "        \n",
    "    def forward(self, x):\n",
    "        identity = x.clone()\n",
    "        x = self.relu(self.batch_norm1(self.conv1(x)))\n",
    "        \n",
    "        x = self.relu(self.batch_norm2(self.conv2(x)))\n",
    "        \n",
    "        x = self.conv3(x)\n",
    "        x = self.batch_norm3(x)\n",
    "        \n",
    "        #downsample if needed\n",
    "        if self.i_downsample is not None:\n",
    "            identity = self.i_downsample(identity)\n",
    "        #add identity\n",
    "        x+=identity\n",
    "        x=self.relu(x)\n",
    "        \n",
    "        return x\n",
    "\n",
    "class Block(nn.Module):\n",
    "    expansion = 1\n",
    "    def __init__(self, in_channels, out_channels, i_downsample=None, stride=1):\n",
    "        super(Block, self).__init__()\n",
    "       \n",
    "\n",
    "        self.conv1 = nn.Conv2d(in_channels, out_channels, kernel_size=3, padding=1, stride=stride, bias=False)\n",
    "        self.batch_norm1 = nn.BatchNorm2d(out_channels)\n",
    "        self.conv2 = nn.Conv2d(out_channels, out_channels, kernel_size=3, padding=1, stride=stride, bias=False)\n",
    "        self.batch_norm2 = nn.BatchNorm2d(out_channels)\n",
    "\n",
    "        self.i_downsample = i_downsample\n",
    "        self.stride = stride\n",
    "        self.relu = nn.ReLU()\n",
    "\n",
    "    def forward(self, x):\n",
    "      identity = x.clone()\n",
    "\n",
    "      x = self.relu(self.batch_norm2(self.conv1(x)))\n",
    "      x = self.batch_norm2(self.conv2(x))\n",
    "\n",
    "      if self.i_downsample is not None:\n",
    "          identity = self.i_downsample(identity)\n",
    "      print(x.shape)\n",
    "      print(identity.shape)\n",
    "      x += identity\n",
    "      x = self.relu(x)\n",
    "      return x\n",
    "\n",
    "\n",
    "        \n",
    "        \n",
    "class ResNet(nn.Module):\n",
    "    def __init__(self, ResBlock, layer_list, num_classes, num_channels=3):\n",
    "        super(ResNet, self).__init__()\n",
    "        self.in_channels = 64\n",
    "        \n",
    "        self.conv1 = nn.Conv2d(num_channels, 64, kernel_size=7, stride=2, padding=3, bias=False)\n",
    "        self.batch_norm1 = nn.BatchNorm2d(64)\n",
    "        self.relu = nn.ReLU()\n",
    "        self.max_pool = nn.MaxPool2d(kernel_size = 3, stride=2, padding=1)\n",
    "        \n",
    "        self.layer1 = self._make_layer(ResBlock, layer_list[0], planes=64)\n",
    "        self.layer2 = self._make_layer(ResBlock, layer_list[1], planes=128, stride=2)\n",
    "        self.layer3 = self._make_layer(ResBlock, layer_list[2], planes=256, stride=2)\n",
    "        self.layer4 = self._make_layer(ResBlock, layer_list[3], planes=512, stride=2)\n",
    "        \n",
    "        self.avgpool = nn.AdaptiveAvgPool2d((1,1))\n",
    "        self.fc = nn.Linear(512*ResBlock.expansion, num_classes)\n",
    "        \n",
    "    def forward(self, x):\n",
    "        x = self.relu(self.batch_norm1(self.conv1(x)))\n",
    "        x = self.max_pool(x)\n",
    "\n",
    "        x = self.layer1(x)\n",
    "        x = self.layer2(x)\n",
    "        x = self.layer3(x)\n",
    "        x = self.layer4(x)\n",
    "        \n",
    "        x = self.avgpool(x)\n",
    "        x = x.reshape(x.shape[0], -1)\n",
    "        x = self.fc(x)\n",
    "        \n",
    "        return x\n",
    "        \n",
    "    def _make_layer(self, ResBlock, blocks, planes, stride=1):\n",
    "        ii_downsample = None\n",
    "        layers = []\n",
    "        \n",
    "        if stride != 1 or self.in_channels != planes*ResBlock.expansion:\n",
    "            ii_downsample = nn.Sequential(\n",
    "                nn.Conv2d(self.in_channels, planes*ResBlock.expansion, kernel_size=1, stride=stride),\n",
    "                nn.BatchNorm2d(planes*ResBlock.expansion)\n",
    "            )\n",
    "            \n",
    "        layers.append(ResBlock(self.in_channels, planes, i_downsample=ii_downsample, stride=stride))\n",
    "        self.in_channels = planes*ResBlock.expansion\n",
    "        \n",
    "        for i in range(blocks-1):\n",
    "            layers.append(ResBlock(self.in_channels, planes))\n",
    "            \n",
    "        return nn.Sequential(*layers)\n",
    "\n",
    "        \n",
    "        \n",
    "def ResNet50(num_classes, channels=3):\n",
    "    return ResNet(Bottleneck, [3,4,6,3], num_classes, channels)\n",
    "    \n",
    "def ResNet101(num_classes, channels=3):\n",
    "    return ResNet(Bottleneck, [3,4,23,3], num_classes, channels)\n",
    "\n",
    "def ResNet152(num_classes, channels=3):\n",
    "    return ResNet(Bottleneck, [3,8,36,3], num_classes, channels)\n"
   ]
  },
  {
   "cell_type": "code",
   "execution_count": 3,
   "id": "faac3084",
   "metadata": {},
   "outputs": [],
   "source": [
    "EPOC=30\n",
    "LR=0.001"
   ]
  },
  {
   "cell_type": "code",
   "execution_count": null,
   "id": "0b62f3da",
   "metadata": {},
   "outputs": [],
   "source": [
    "train_data_path = r\"C:\\Users\\joaog\\Deep_Learning\\Dataset\\chest_xray\\train\"\n",
    "test_data_path = r\"C:\\Users\\joaog\\Deep_Learning\\Dataset\\chest_xray\\test\"\n",
    "trainloader,testloader = trans_data(train_data_path,test_data_path,1000,5)"
   ]
  },
  {
   "cell_type": "code",
   "execution_count": 5,
   "id": "cee3d1e2",
   "metadata": {},
   "outputs": [],
   "source": [
    "net = ResNet50(10).to('cuda')\n",
    "\n",
    "criterion = DeepKNNLoss()\n",
    "optimizer = optim.SGD(net.parameters(), lr=LR, momentum=0.9, weight_decay=0.0001)\n",
    "scheduler = optim.lr_scheduler.ReduceLROnPlateau(optimizer, factor = 0.1, patience=5)"
   ]
  },
  {
   "cell_type": "code",
   "execution_count": 6,
   "id": "d39260f8",
   "metadata": {},
   "outputs": [
    {
     "name": "stderr",
     "output_type": "stream",
     "text": [
      "Epoch 1/30: 100%|██████████| 200/200 [00:14<00:00, 13.80it/s]\n"
     ]
    },
    {
     "name": "stdout",
     "output_type": "stream",
     "text": [
      "\n",
      "End of Epoch 1, Average Triplet Loss: 0.2378\n"
     ]
    },
    {
     "name": "stderr",
     "output_type": "stream",
     "text": [
      "Epoch 2/30: 100%|██████████| 200/200 [00:14<00:00, 14.20it/s]\n"
     ]
    },
    {
     "name": "stdout",
     "output_type": "stream",
     "text": [
      "\n",
      "End of Epoch 2, Average Triplet Loss: 0.2362\n"
     ]
    },
    {
     "name": "stderr",
     "output_type": "stream",
     "text": [
      "Epoch 3/30: 100%|██████████| 200/200 [00:23<00:00,  8.41it/s]\n"
     ]
    },
    {
     "name": "stdout",
     "output_type": "stream",
     "text": [
      "\n",
      "End of Epoch 3, Average Triplet Loss: 0.1854\n"
     ]
    },
    {
     "name": "stderr",
     "output_type": "stream",
     "text": [
      "Epoch 4/30: 100%|██████████| 200/200 [00:16<00:00, 11.92it/s]\n"
     ]
    },
    {
     "name": "stdout",
     "output_type": "stream",
     "text": [
      "\n",
      "End of Epoch 4, Average Triplet Loss: 0.1617\n"
     ]
    },
    {
     "name": "stderr",
     "output_type": "stream",
     "text": [
      "Epoch 5/30: 100%|██████████| 200/200 [00:14<00:00, 14.16it/s]\n"
     ]
    },
    {
     "name": "stdout",
     "output_type": "stream",
     "text": [
      "\n",
      "End of Epoch 5, Average Triplet Loss: 0.1736\n"
     ]
    },
    {
     "name": "stderr",
     "output_type": "stream",
     "text": [
      "Epoch 6/30: 100%|██████████| 200/200 [00:18<00:00, 10.61it/s]\n"
     ]
    },
    {
     "name": "stdout",
     "output_type": "stream",
     "text": [
      "\n",
      "End of Epoch 6, Average Triplet Loss: 0.1548\n"
     ]
    },
    {
     "name": "stderr",
     "output_type": "stream",
     "text": [
      "Epoch 7/30: 100%|██████████| 200/200 [00:23<00:00,  8.41it/s]\n"
     ]
    },
    {
     "name": "stdout",
     "output_type": "stream",
     "text": [
      "\n",
      "End of Epoch 7, Average Triplet Loss: 0.1428\n"
     ]
    },
    {
     "name": "stderr",
     "output_type": "stream",
     "text": [
      "Epoch 8/30: 100%|██████████| 200/200 [00:25<00:00,  7.79it/s]\n"
     ]
    },
    {
     "name": "stdout",
     "output_type": "stream",
     "text": [
      "\n",
      "End of Epoch 8, Average Triplet Loss: 0.1302\n"
     ]
    },
    {
     "name": "stderr",
     "output_type": "stream",
     "text": [
      "Epoch 9/30: 100%|██████████| 200/200 [00:21<00:00,  9.45it/s]\n"
     ]
    },
    {
     "name": "stdout",
     "output_type": "stream",
     "text": [
      "\n",
      "End of Epoch 9, Average Triplet Loss: 0.1246\n"
     ]
    },
    {
     "name": "stderr",
     "output_type": "stream",
     "text": [
      "Epoch 10/30: 100%|██████████| 200/200 [00:14<00:00, 13.95it/s]\n"
     ]
    },
    {
     "name": "stdout",
     "output_type": "stream",
     "text": [
      "\n",
      "End of Epoch 10, Average Triplet Loss: 0.1347\n"
     ]
    },
    {
     "name": "stderr",
     "output_type": "stream",
     "text": [
      "Epoch 11/30: 100%|██████████| 200/200 [00:14<00:00, 13.49it/s]\n"
     ]
    },
    {
     "name": "stdout",
     "output_type": "stream",
     "text": [
      "\n",
      "End of Epoch 11, Average Triplet Loss: 0.1345\n"
     ]
    },
    {
     "name": "stderr",
     "output_type": "stream",
     "text": [
      "Epoch 12/30: 100%|██████████| 200/200 [00:14<00:00, 13.68it/s]\n"
     ]
    },
    {
     "name": "stdout",
     "output_type": "stream",
     "text": [
      "\n",
      "End of Epoch 12, Average Triplet Loss: 0.1272\n"
     ]
    },
    {
     "name": "stderr",
     "output_type": "stream",
     "text": [
      "Epoch 13/30: 100%|██████████| 200/200 [00:14<00:00, 13.37it/s]\n"
     ]
    },
    {
     "name": "stdout",
     "output_type": "stream",
     "text": [
      "\n",
      "End of Epoch 13, Average Triplet Loss: 0.1091\n"
     ]
    },
    {
     "name": "stderr",
     "output_type": "stream",
     "text": [
      "Epoch 14/30: 100%|██████████| 200/200 [00:14<00:00, 13.73it/s]\n"
     ]
    },
    {
     "name": "stdout",
     "output_type": "stream",
     "text": [
      "\n",
      "End of Epoch 14, Average Triplet Loss: 0.1206\n"
     ]
    },
    {
     "name": "stderr",
     "output_type": "stream",
     "text": [
      "Epoch 15/30: 100%|██████████| 200/200 [00:15<00:00, 12.89it/s]\n"
     ]
    },
    {
     "name": "stdout",
     "output_type": "stream",
     "text": [
      "\n",
      "End of Epoch 15, Average Triplet Loss: 0.1146\n"
     ]
    },
    {
     "name": "stderr",
     "output_type": "stream",
     "text": [
      "Epoch 16/30: 100%|██████████| 200/200 [00:14<00:00, 13.63it/s]\n"
     ]
    },
    {
     "name": "stdout",
     "output_type": "stream",
     "text": [
      "\n",
      "End of Epoch 16, Average Triplet Loss: 0.1084\n"
     ]
    },
    {
     "name": "stderr",
     "output_type": "stream",
     "text": [
      "Epoch 17/30: 100%|██████████| 200/200 [00:15<00:00, 13.32it/s]\n"
     ]
    },
    {
     "name": "stdout",
     "output_type": "stream",
     "text": [
      "\n",
      "End of Epoch 17, Average Triplet Loss: 0.1064\n"
     ]
    },
    {
     "name": "stderr",
     "output_type": "stream",
     "text": [
      "Epoch 18/30: 100%|██████████| 200/200 [00:23<00:00,  8.50it/s]\n"
     ]
    },
    {
     "name": "stdout",
     "output_type": "stream",
     "text": [
      "\n",
      "End of Epoch 18, Average Triplet Loss: 0.1176\n"
     ]
    },
    {
     "name": "stderr",
     "output_type": "stream",
     "text": [
      "Epoch 19/30: 100%|██████████| 200/200 [00:25<00:00,  7.91it/s]\n"
     ]
    },
    {
     "name": "stdout",
     "output_type": "stream",
     "text": [
      "\n",
      "End of Epoch 19, Average Triplet Loss: 0.1129\n"
     ]
    },
    {
     "name": "stderr",
     "output_type": "stream",
     "text": [
      "Epoch 20/30: 100%|██████████| 200/200 [00:25<00:00,  7.74it/s]\n"
     ]
    },
    {
     "name": "stdout",
     "output_type": "stream",
     "text": [
      "\n",
      "End of Epoch 20, Average Triplet Loss: 0.1134\n"
     ]
    },
    {
     "name": "stderr",
     "output_type": "stream",
     "text": [
      "Epoch 21/30: 100%|██████████| 200/200 [00:23<00:00,  8.60it/s]\n"
     ]
    },
    {
     "name": "stdout",
     "output_type": "stream",
     "text": [
      "\n",
      "End of Epoch 21, Average Triplet Loss: 0.1038\n"
     ]
    },
    {
     "name": "stderr",
     "output_type": "stream",
     "text": [
      "Epoch 22/30: 100%|██████████| 200/200 [00:15<00:00, 13.18it/s]\n"
     ]
    },
    {
     "name": "stdout",
     "output_type": "stream",
     "text": [
      "\n",
      "End of Epoch 22, Average Triplet Loss: 0.1067\n"
     ]
    },
    {
     "name": "stderr",
     "output_type": "stream",
     "text": [
      "Epoch 23/30: 100%|██████████| 200/200 [00:14<00:00, 13.49it/s]\n"
     ]
    },
    {
     "name": "stdout",
     "output_type": "stream",
     "text": [
      "\n",
      "End of Epoch 23, Average Triplet Loss: 0.1051\n"
     ]
    },
    {
     "name": "stderr",
     "output_type": "stream",
     "text": [
      "Epoch 24/30: 100%|██████████| 200/200 [00:14<00:00, 14.06it/s]\n"
     ]
    },
    {
     "name": "stdout",
     "output_type": "stream",
     "text": [
      "\n",
      "End of Epoch 24, Average Triplet Loss: 0.0986\n"
     ]
    },
    {
     "name": "stderr",
     "output_type": "stream",
     "text": [
      "Epoch 25/30: 100%|██████████| 200/200 [00:14<00:00, 13.50it/s]\n"
     ]
    },
    {
     "name": "stdout",
     "output_type": "stream",
     "text": [
      "\n",
      "End of Epoch 25, Average Triplet Loss: 0.0985\n"
     ]
    },
    {
     "name": "stderr",
     "output_type": "stream",
     "text": [
      "Epoch 26/30: 100%|██████████| 200/200 [00:14<00:00, 13.62it/s]\n"
     ]
    },
    {
     "name": "stdout",
     "output_type": "stream",
     "text": [
      "\n",
      "End of Epoch 26, Average Triplet Loss: 0.1020\n"
     ]
    },
    {
     "name": "stderr",
     "output_type": "stream",
     "text": [
      "Epoch 27/30: 100%|██████████| 200/200 [00:14<00:00, 13.79it/s]\n"
     ]
    },
    {
     "name": "stdout",
     "output_type": "stream",
     "text": [
      "\n",
      "End of Epoch 27, Average Triplet Loss: 0.0973\n"
     ]
    },
    {
     "name": "stderr",
     "output_type": "stream",
     "text": [
      "Epoch 28/30: 100%|██████████| 200/200 [00:14<00:00, 13.80it/s]\n"
     ]
    },
    {
     "name": "stdout",
     "output_type": "stream",
     "text": [
      "\n",
      "End of Epoch 28, Average Triplet Loss: 0.1039\n"
     ]
    },
    {
     "name": "stderr",
     "output_type": "stream",
     "text": [
      "Epoch 29/30: 100%|██████████| 200/200 [00:14<00:00, 13.98it/s]\n"
     ]
    },
    {
     "name": "stdout",
     "output_type": "stream",
     "text": [
      "\n",
      "End of Epoch 29, Average Triplet Loss: 0.1009\n"
     ]
    },
    {
     "name": "stderr",
     "output_type": "stream",
     "text": [
      "Epoch 30/30: 100%|██████████| 200/200 [00:15<00:00, 12.87it/s]"
     ]
    },
    {
     "name": "stdout",
     "output_type": "stream",
     "text": [
      "\n",
      "End of Epoch 30, Average Triplet Loss: 0.0973\n",
      "Training Done\n"
     ]
    },
    {
     "name": "stderr",
     "output_type": "stream",
     "text": [
      "\n"
     ]
    }
   ],
   "source": [
    "from tqdm import tqdm # Recommended for better progress bars\n",
    "import time\n",
    "start_time = time.time()\n",
    "# --- 3. The Adapted Training Loop ---\n",
    "EPOCHS = EPOC # Starting with fewer epochs for demonstration\n",
    "for epoch in range(EPOCHS):\n",
    "    net.train() # Set model to training mode\n",
    "    \n",
    "    running_loss = 0.0\n",
    "    # Use tqdm for a nice progress bar\n",
    "    for i, (inputs, labels) in enumerate(tqdm(trainloader, desc=f\"Epoch {epoch+1}/{EPOCHS}\")):\n",
    "        inputs, labels = inputs.to('cuda'), labels.to('cuda')\n",
    "        \n",
    "        optimizer.zero_grad()\n",
    "        \n",
    "        # 1. Get embeddings for the entire batch\n",
    "        embeddings = net(inputs)\n",
    "        # The output of our net is [batch_size, 2048, 1, 1], so we flatten it\n",
    "        embeddings = embeddings.flatten(start_dim=1)\n",
    "\n",
    "        # 2. Triplet Mining: Find anchor, positive, and negative samples\n",
    "        # This is a simple but effective \"in-batch\" mining strategy\n",
    "        anchors, positives, negatives = [], [], []\n",
    "        for j in range(len(labels)):\n",
    "            anchor_label = labels[j]\n",
    "            anchor_embedding = embeddings[j]\n",
    "            \n",
    "            # Find indices of positive and negative samples in the batch\n",
    "            positive_indices = (labels == anchor_label) & (torch.arange(len(labels)).cuda() != j)\n",
    "            negative_indices = (labels != anchor_label)\n",
    "            \n",
    "            # If we have at least one positive and one negative...\n",
    "            if torch.any(positive_indices) and torch.any(negative_indices):\n",
    "                # Select one positive and one negative\n",
    "                positive_idx = torch.where(positive_indices)[0][0]\n",
    "                negative_idx = torch.where(negative_indices)[0][0]\n",
    "                \n",
    "                anchors.append(anchor_embedding)\n",
    "                positives.append(embeddings[positive_idx])\n",
    "                negatives.append(embeddings[negative_idx])\n",
    "        \n",
    "        # 3. If we found any valid triplets, calculate the loss\n",
    "        if len(anchors) > 0:\n",
    "            # Convert lists to tensors\n",
    "            anchor_tensor = torch.stack(anchors)\n",
    "            positive_tensor = torch.stack(positives)\n",
    "            negative_tensor = torch.stack(negatives)\n",
    "            \n",
    "            # Calculate the triplet loss\n",
    "            loss = criterion(anchor_tensor, positive_tensor, negative_tensor)\n",
    "            \n",
    "            # Backpropagation\n",
    "            loss.backward()\n",
    "            optimizer.step()\n",
    "            \n",
    "            running_loss += loss.item()\n",
    "\n",
    "    # Calculate and print average loss for the epoch\n",
    "    avg_loss = running_loss / (i + 1)\n",
    "    print(f\"\\nEnd of Epoch {epoch+1}, Average Triplet Loss: {avg_loss:.4f}\")\n",
    "    \n",
    "    # Step the scheduler\n",
    "    scheduler.step(avg_loss)\n",
    "\n",
    "print('Training Done')\n",
    "end_time = time.time()"
   ]
  },
  {
   "cell_type": "code",
   "execution_count": null,
   "id": "2b969ee5",
   "metadata": {},
   "outputs": [
    {
     "name": "stdout",
     "output_type": "stream",
     "text": [
      "Predicted tensor shape: torch.Size([5])\n",
      "Labels tensor shape:    torch.Size([5])\n",
      "------------------------------\n",
      "Predicted tensor dtype: torch.int64\n",
      "Labels tensor dtype:    torch.int64\n",
      "------------------------------\n",
      "First 10 Predictions: tensor([8, 8, 6, 8, 6], device='cuda:0')\n",
      "First 10 Labels:      tensor([0, 0, 0, 0, 0], device='cuda:0')\n",
      "Accuracy on 624 test images: 0.0 %\n"
     ]
    }
   ],
   "source": [
    "net(images)\n"
   ]
  },
  {
   "cell_type": "code",
   "execution_count": 20,
   "id": "f50ba26c",
   "metadata": {},
   "outputs": [],
   "source": [
    "net.eval()\n",
    "\n",
    "# --- Lists to store true labels and predictions ---\n",
    "all_labels = []\n",
    "all_predictions = []\n",
    "\n",
    "# --- No gradient calculation needed for inference ---\n",
    "with torch.no_grad():\n",
    "    # Iterate over the test data\n",
    "    for data in testloader:\n",
    "        inputs, labels = data\n",
    "        inputs, labels = inputs.to('cuda'), labels.to('cuda')\n",
    "\n",
    "        # Get model outputs\n",
    "        outputs = net(inputs)\n",
    "        \n",
    "        # Get the predicted class (the one with the highest score)\n",
    "        _, predicted = torch.max(outputs.data, 1)\n",
    "        \n",
    "        # Append batch predictions and labels to the lists\n",
    "        all_predictions.extend(predicted.cpu().numpy())\n",
    "        all_labels.extend(labels.cpu().numpy())\n",
    "all_features = all_predictions"
   ]
  },
  {
   "cell_type": "code",
   "execution_count": 23,
   "id": "8c8cd0cc",
   "metadata": {},
   "outputs": [
    {
     "ename": "ValueError",
     "evalue": "too many values to unpack (expected 2)",
     "output_type": "error",
     "traceback": [
      "\u001b[31m---------------------------------------------------------------------------\u001b[39m",
      "\u001b[31mValueError\u001b[39m                                Traceback (most recent call last)",
      "\u001b[36mCell\u001b[39m\u001b[36m \u001b[39m\u001b[32mIn[23]\u001b[39m\u001b[32m, line 17\u001b[39m\n\u001b[32m     14\u001b[39m inputs, labels = inputs.to(\u001b[33m'\u001b[39m\u001b[33mcuda\u001b[39m\u001b[33m'\u001b[39m), labels.to(\u001b[33m'\u001b[39m\u001b[33mcuda\u001b[39m\u001b[33m'\u001b[39m)\n\u001b[32m     16\u001b[39m \u001b[38;5;66;03m# Get model outputs and features\u001b[39;00m\n\u001b[32m---> \u001b[39m\u001b[32m17\u001b[39m outputs, features = net(inputs)\n\u001b[32m     19\u001b[39m \u001b[38;5;66;03m# Append batch features and labels to the lists\u001b[39;00m\n\u001b[32m     20\u001b[39m all_features.append(features.cpu().numpy())\n",
      "\u001b[31mValueError\u001b[39m: too many values to unpack (expected 2)"
     ]
    }
   ],
   "source": [
    "import torch\n",
    "import numpy as np\n",
    "\n",
    "net.eval() # Set model to evaluation mode\n",
    "\n",
    "# --- Lists to store true labels and feature vectors ---\n",
    "all_labels = []\n",
    "all_features = []\n",
    "\n",
    "# --- No gradient calculation needed ---\n",
    "with torch.no_grad():\n",
    "    for data in testloader:\n",
    "        inputs, labels = data\n",
    "        inputs, labels = inputs.to('cuda'), labels.to('cuda')\n",
    "\n",
    "        # Get model outputs and features\n",
    "        outputs, features = net(inputs)\n",
    "        \n",
    "        # Append batch features and labels to the lists\n",
    "        all_features.append(features.cpu().numpy())\n",
    "        all_labels.extend(labels.cpu().numpy())\n",
    "\n",
    "# Concatenate all feature batches into a single numpy array\n",
    "all_features = np.concatenate(all_features, axis=0)\n",
    "\n",
    "print(f\"Shape of extracted features: {all_features.shape}\")\n",
    "print(f\"Number of labels: {len(all_labels)}\")"
   ]
  },
  {
   "cell_type": "code",
   "execution_count": null,
   "id": "d1154b21",
   "metadata": {},
   "outputs": [],
   "source": [
    "from sklearn.model_selection import train_test_split\n",
    "from sklearn.neighbors import KNeighborsClassifier\n",
    "from sklearn.metrics import accuracy_score, classification_report\n",
    "\n",
    "# 1. Split data into a training set and a testing set for the k-NN\n",
    "# This is crucial to fairly evaluate the k-NN's performance.\n",
    "X_train, X_test, y_train, y_test = train_test_split(\n",
    "    all_features, \n",
    "    all_labels, \n",
    "    test_size=0.3,  # Use 30% of the data for testing the k-NN\n",
    "    random_state=42,\n",
    "    stratify=all_labels # Ensures proportional representation of labels in splits\n",
    ")\n",
    "\n",
    "# 2. Initialize the k-NN classifier\n",
    "# 'k' is the number of neighbors. 5 is a common starting point.\n",
    "k = 5\n",
    "knn = KNeighborsClassifier(n_neighbors=k)\n",
    "\n",
    "# 3. Train the k-NN model on the training data\n",
    "print(f\"\\nTraining k-NN with k={k}...\")\n",
    "knn.fit(X_train, y_train)\n",
    "print(\"Training complete.\")\n",
    "\n",
    "# 4. Make predictions on the test data\n",
    "print(\"Making predictions on the test set...\")\n",
    "knn_predictions = knn.predict(X_test)\n",
    "\n",
    "# 5. Evaluate the performance of the k-NN classifier\n",
    "accuracy = accuracy_score(y_test, knn_predictions)\n",
    "print(f\"\\nAccuracy of k-NN on CNN features: {accuracy * 100:.2f}%\")\n",
    "\n",
    "# You can also get a more detailed report\n",
    "print(\"\\nClassification Report:\")\n",
    "print(classification_report(y_test, knn_predictions))"
   ]
  },
  {
   "cell_type": "code",
   "execution_count": 18,
   "id": "80da6bd5",
   "metadata": {},
   "outputs": [
    {
     "name": "stdout",
     "output_type": "stream",
     "text": [
      "[np.int64(8), np.int64(8), np.int64(6), np.int64(8), np.int64(6), np.int64(6), np.int64(6), np.int64(6), np.int64(6), np.int64(6), np.int64(6), np.int64(8), np.int64(8), np.int64(6), np.int64(8), np.int64(6), np.int64(8), np.int64(6), np.int64(6), np.int64(6), np.int64(6), np.int64(6), np.int64(6), np.int64(6), np.int64(6), np.int64(6), np.int64(8), np.int64(6), np.int64(6), np.int64(6), np.int64(8), np.int64(6), np.int64(6), np.int64(6), np.int64(6), np.int64(6), np.int64(6), np.int64(6), np.int64(6), np.int64(6), np.int64(8), np.int64(6), np.int64(6), np.int64(6), np.int64(8), np.int64(6), np.int64(6), np.int64(6), np.int64(6), np.int64(6), np.int64(6), np.int64(6), np.int64(6), np.int64(8), np.int64(8), np.int64(6), np.int64(8), np.int64(6), np.int64(6), np.int64(6), np.int64(6), np.int64(8), np.int64(6), np.int64(6), np.int64(6), np.int64(6), np.int64(6), np.int64(8), np.int64(6), np.int64(6), np.int64(6), np.int64(6), np.int64(8), np.int64(6), np.int64(6), np.int64(6), np.int64(6), np.int64(6), np.int64(6), np.int64(6), np.int64(6), np.int64(8), np.int64(6), np.int64(6), np.int64(6), np.int64(8), np.int64(6), np.int64(6), np.int64(8), np.int64(6), np.int64(6), np.int64(6), np.int64(6), np.int64(6), np.int64(6), np.int64(6), np.int64(6), np.int64(8), np.int64(6), np.int64(6), np.int64(6), np.int64(8), np.int64(6), np.int64(8), np.int64(6), np.int64(6), np.int64(6), np.int64(6), np.int64(6), np.int64(6), np.int64(8), np.int64(8), np.int64(6), np.int64(6), np.int64(8), np.int64(6), np.int64(6), np.int64(8), np.int64(8), np.int64(8), np.int64(8), np.int64(8), np.int64(6), np.int64(6), np.int64(8), np.int64(6), np.int64(8), np.int64(6), np.int64(6), np.int64(8), np.int64(8), np.int64(8), np.int64(6), np.int64(8), np.int64(8), np.int64(8), np.int64(6), np.int64(6), np.int64(8), np.int64(8), np.int64(8), np.int64(6), np.int64(6), np.int64(6), np.int64(8), np.int64(6), np.int64(8), np.int64(8), np.int64(6), np.int64(6), np.int64(6), np.int64(6), np.int64(6), np.int64(6), np.int64(6), np.int64(6), np.int64(6), np.int64(8), np.int64(6), np.int64(6), np.int64(8), np.int64(6), np.int64(6), np.int64(6), np.int64(6), np.int64(6), np.int64(8), np.int64(6), np.int64(6), np.int64(6), np.int64(6), np.int64(6), np.int64(6), np.int64(6), np.int64(8), np.int64(6), np.int64(6), np.int64(6), np.int64(6), np.int64(6), np.int64(6), np.int64(8), np.int64(6), np.int64(6), np.int64(6), np.int64(6), np.int64(6), np.int64(6), np.int64(6), np.int64(8), np.int64(6), np.int64(6), np.int64(6), np.int64(6), np.int64(6), np.int64(6), np.int64(8), np.int64(6), np.int64(8), np.int64(6), np.int64(8), np.int64(8), np.int64(6), np.int64(6), np.int64(6), np.int64(6), np.int64(6), np.int64(6), np.int64(6), np.int64(6), np.int64(8), np.int64(6), np.int64(6), np.int64(6), np.int64(6), np.int64(8), np.int64(8), np.int64(8), np.int64(8), np.int64(6), np.int64(6), np.int64(6), np.int64(6), np.int64(6), np.int64(6), np.int64(6), np.int64(6), np.int64(6), np.int64(8), np.int64(6), np.int64(8), np.int64(6), np.int64(8), np.int64(8), np.int64(8), np.int64(8), np.int64(8), np.int64(8), np.int64(6), np.int64(6), np.int64(8), np.int64(8), np.int64(8), np.int64(6), np.int64(8), np.int64(6), np.int64(8), np.int64(8), np.int64(8), np.int64(8), np.int64(6), np.int64(8), np.int64(8), np.int64(8), np.int64(6), np.int64(6), np.int64(8), np.int64(8), np.int64(8), np.int64(8), np.int64(8), np.int64(8), np.int64(8), np.int64(8), np.int64(8), np.int64(6), np.int64(8), np.int64(6), np.int64(8), np.int64(8), np.int64(6), np.int64(8), np.int64(8), np.int64(8), np.int64(8), np.int64(8), np.int64(6), np.int64(8), np.int64(8), np.int64(8), np.int64(6), np.int64(6), np.int64(6), np.int64(6), np.int64(6), np.int64(8), np.int64(8), np.int64(6), np.int64(8), np.int64(6), np.int64(6), np.int64(8), np.int64(8), np.int64(8), np.int64(8), np.int64(6), np.int64(6), np.int64(6), np.int64(8), np.int64(6), np.int64(8), np.int64(6), np.int64(8), np.int64(8), np.int64(8), np.int64(6), np.int64(8), np.int64(6), np.int64(8), np.int64(8), np.int64(8), np.int64(8), np.int64(8), np.int64(8), np.int64(6), np.int64(8), np.int64(6), np.int64(6), np.int64(8), np.int64(6), np.int64(6), np.int64(6), np.int64(8), np.int64(8), np.int64(8), np.int64(8), np.int64(6), np.int64(8), np.int64(6), np.int64(8), np.int64(6), np.int64(8), np.int64(8), np.int64(6), np.int64(6), np.int64(8), np.int64(8), np.int64(6), np.int64(6), np.int64(6), np.int64(6), np.int64(6), np.int64(8), np.int64(6), np.int64(8), np.int64(8), np.int64(6), np.int64(6), np.int64(6), np.int64(8), np.int64(6), np.int64(6), np.int64(8), np.int64(8), np.int64(6), np.int64(8), np.int64(6), np.int64(8), np.int64(8), np.int64(8), np.int64(8), np.int64(8), np.int64(6), np.int64(6), np.int64(6), np.int64(8), np.int64(6), np.int64(6), np.int64(8), np.int64(8), np.int64(8), np.int64(6), np.int64(8), np.int64(6), np.int64(8), np.int64(8), np.int64(8), np.int64(6), np.int64(6), np.int64(5), np.int64(6), np.int64(6), np.int64(8), np.int64(8), np.int64(8), np.int64(8), np.int64(8), np.int64(8), np.int64(6), np.int64(6), np.int64(6), np.int64(6), np.int64(6), np.int64(6), np.int64(8), np.int64(8), np.int64(8), np.int64(8), np.int64(8), np.int64(6), np.int64(6), np.int64(8), np.int64(6), np.int64(6), np.int64(8), np.int64(6), np.int64(8), np.int64(8), np.int64(6), np.int64(8), np.int64(6), np.int64(8), np.int64(8), np.int64(8), np.int64(6), np.int64(8), np.int64(8), np.int64(6), np.int64(6), np.int64(8), np.int64(8), np.int64(8), np.int64(8), np.int64(8), np.int64(6), np.int64(8), np.int64(8), np.int64(6), np.int64(6), np.int64(8), np.int64(8), np.int64(6), np.int64(8), np.int64(8), np.int64(8), np.int64(6), np.int64(6), np.int64(6), np.int64(8), np.int64(6), np.int64(6), np.int64(6), np.int64(6), np.int64(6), np.int64(8), np.int64(8), np.int64(6), np.int64(8), np.int64(8), np.int64(6), np.int64(8), np.int64(8), np.int64(8), np.int64(8), np.int64(8), np.int64(8), np.int64(8), np.int64(8), np.int64(8), np.int64(8), np.int64(8), np.int64(8), np.int64(6), np.int64(8), np.int64(6), np.int64(6), np.int64(8), np.int64(6), np.int64(8), np.int64(8), np.int64(8), np.int64(6), np.int64(8), np.int64(6), np.int64(8), np.int64(6), np.int64(8), np.int64(6), np.int64(8), np.int64(6), np.int64(6), np.int64(8), np.int64(8), np.int64(8), np.int64(8), np.int64(8), np.int64(8), np.int64(8), np.int64(6), np.int64(8), np.int64(6), np.int64(6), np.int64(8), np.int64(8), np.int64(8), np.int64(8), np.int64(6), np.int64(8), np.int64(6), np.int64(6), np.int64(8), np.int64(8), np.int64(8), np.int64(8), np.int64(6), np.int64(8), np.int64(8), np.int64(6), np.int64(6), np.int64(8), np.int64(8), np.int64(8), np.int64(8), np.int64(8), np.int64(8), np.int64(6), np.int64(8), np.int64(6), np.int64(8), np.int64(6), np.int64(8), np.int64(6), np.int64(8), np.int64(6), np.int64(6), np.int64(8), np.int64(8), np.int64(8), np.int64(8), np.int64(8), np.int64(6), np.int64(8), np.int64(8), np.int64(8), np.int64(8), np.int64(8), np.int64(6), np.int64(8), np.int64(6), np.int64(8), np.int64(6), np.int64(6), np.int64(8), np.int64(8), np.int64(8), np.int64(8), np.int64(6), np.int64(8), np.int64(8), np.int64(8), np.int64(8), np.int64(8), np.int64(6), np.int64(8), np.int64(8), np.int64(6), np.int64(6), np.int64(8), np.int64(8), np.int64(6), np.int64(8), np.int64(8), np.int64(8), np.int64(6), np.int64(6), np.int64(8), np.int64(8), np.int64(6), np.int64(8), np.int64(8), np.int64(6), np.int64(6), np.int64(6), np.int64(8), np.int64(6), np.int64(6), np.int64(8), np.int64(8), np.int64(8), np.int64(8), np.int64(8), np.int64(8), np.int64(6), np.int64(8), np.int64(6), np.int64(8), np.int64(8), np.int64(8), np.int64(6), np.int64(8), np.int64(6), np.int64(6), np.int64(8), np.int64(6), np.int64(8), np.int64(6), np.int64(8), np.int64(6), np.int64(8), np.int64(6), np.int64(8), np.int64(6), np.int64(8), np.int64(6), np.int64(6), np.int64(8), np.int64(8), np.int64(8), np.int64(8), np.int64(6), np.int64(6), np.int64(8), np.int64(8), np.int64(6), np.int64(5), np.int64(8), np.int64(8), np.int64(6), np.int64(8), np.int64(8), np.int64(6), np.int64(8), np.int64(6), np.int64(6)]\n"
     ]
    }
   ],
   "source": [
    "print(all_predictions)"
   ]
  },
  {
   "cell_type": "code",
   "execution_count": null,
   "id": "545e237e",
   "metadata": {},
   "outputs": [],
   "source": []
  }
 ],
 "metadata": {
  "kernelspec": {
   "display_name": "Python 3",
   "language": "python",
   "name": "python3"
  },
  "language_info": {
   "codemirror_mode": {
    "name": "ipython",
    "version": 3
   },
   "file_extension": ".py",
   "mimetype": "text/x-python",
   "name": "python",
   "nbconvert_exporter": "python",
   "pygments_lexer": "ipython3",
   "version": "3.11.9"
  }
 },
 "nbformat": 4,
 "nbformat_minor": 5
}
